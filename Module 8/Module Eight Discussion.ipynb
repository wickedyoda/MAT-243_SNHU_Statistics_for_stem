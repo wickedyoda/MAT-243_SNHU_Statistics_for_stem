{
 "cells": [
  {
   "cell_type": "markdown",
   "metadata": {},
   "source": [
    "# Module Eight Discussion: One-way ANOVA\n",
    "\n",
    "This notebook contains the step-by-step directions for your Module Eight discussion. It is very important to run through the steps in order. Some steps depend on the outputs of earlier steps. Once you have completed the steps in this notebook, be sure to answer the questions about this activity in the discussion for this module.\n",
    "\n",
    "Reminder: If you have not already reviewed the discussion prompt, please do so before beginning this activity. That will give you an idea of the questions you will need to answer with the outputs of this script."
   ]
  },
  {
   "cell_type": "markdown",
   "metadata": {},
   "source": [
    "## Initial post (due Thursday)\n",
    "_____________________________________________________________________________________________________________________________________________________"
   ]
  },
  {
   "cell_type": "markdown",
   "metadata": {},
   "source": [
    "## Step 1: Uploading the dataset\n",
    "The data for this discussion is included in a CSV file called etf_returns.csv. It contains ten-year returns of 30 ETFs for three sectors: financial, energy, and technology. The read_csv method in pandas can be used to upload the CSV. \n",
    "\n",
    "Click the block of code below and hit the **Run** button above."
   ]
  },
  {
   "cell_type": "code",
   "execution_count": 1,
   "metadata": {
    "scrolled": true
   },
   "outputs": [
    {
     "name": "stdout",
     "output_type": "stream",
     "text": [
      "    financial  energy  technology\n",
      "0         5.5     5.2         7.3\n",
      "1         7.1     7.4         8.2\n",
      "2         6.9     6.6         7.1\n",
      "3         5.1     5.7         7.6\n",
      "4         4.6     5.6         8.2\n",
      "5         5.3     5.5        11.5\n",
      "6         5.9     6.4         9.2\n",
      "7         5.6     6.1         9.5\n",
      "8         5.5     5.2         7.3\n",
      "9         7.1     7.4         8.2\n",
      "10        6.9     6.6         7.1\n",
      "11        5.1     5.7         7.6\n",
      "12        4.6     5.6         8.2\n",
      "13        5.3     5.5        11.5\n",
      "14        5.9     6.4         9.2\n",
      "15        5.6     6.1         9.5\n",
      "16        4.7     4.4         6.2\n",
      "17        6.4     6.6         7.4\n",
      "18        6.7     6.4         6.9\n",
      "19        4.3     4.8         6.4\n",
      "20        4.1     5.0         7.4\n",
      "21        5.1     5.3        11.1\n",
      "22        5.7     6.2         8.9\n",
      "23        4.7     5.2         8.1\n",
      "24        5.3     5.0         7.1\n",
      "25        6.4     6.6         7.4\n",
      "26        5.8     5.6         6.0\n",
      "27        4.9     5.5         7.4\n",
      "28        4.1     5.0         7.4\n",
      "29        4.8     4.9        10.3\n"
     ]
    }
   ],
   "source": [
    "import pandas as pd\n",
    "\n",
    "# read data from etf_returns.csv.\n",
    "etf_returns_df = pd.read_csv('etf_returns.csv')\n",
    "\n",
    "# print etf returns data set.\n",
    "print(etf_returns_df)"
   ]
  },
  {
   "cell_type": "markdown",
   "metadata": {},
   "source": [
    " "
   ]
  },
  {
   "cell_type": "markdown",
   "metadata": {},
   "source": [
    "## Step 2: Performing one-way ANOVA\n",
    "The scipy.stats submodule can be used to perform one-way analysis of variance (ANOVA). The method f_oneway is used to perform this test. The inputs are individual dataframes of all groups (in this discussion, groups are sectors). \n",
    "\n",
    "Click the block of code below and hit the **Run** button above."
   ]
  },
  {
   "cell_type": "code",
   "execution_count": null,
   "metadata": {},
   "outputs": [],
   "source": [
    "import scipy.stats as st\n",
    "\n",
    "# save return data for individual sectors for input to f_oneway method.\n",
    "etf_returns_financial = etf_returns_df['financial']\n",
    "etf_returns_energy = etf_returns_df['energy']\n",
    "etf_returns_technology = etf_returns_df['technology']\n",
    "\n",
    "# print the outputs: the test statistic and the P-value.\n",
    "test_statistic, p_value = st.f_oneway(etf_returns_financial, etf_returns_energy, etf_returns_technology)\n",
    "\n",
    "print(\"test statistic =\", round(test_statistic,2))\n",
    "print(\"P-value =\", round(p_value,4))"
   ]
  },
  {
   "cell_type": "markdown",
   "metadata": {},
   "source": [
    " "
   ]
  },
  {
   "cell_type": "markdown",
   "metadata": {},
   "source": [
    "## Step 3: Visualizing differences\n",
    "There are post-hoc tests available that can be used to identify groups that are significantly different than others. Alternatively, a quick approach to identifying differences is to create a visual plot for data distributions using side-by-side boxplots. The block of code below uses the seaborn module and matplotlib.pyplot submodule to create side-by-side boxplots for the ten-year returns of ETFs in financial, energy, and technology sectors. \n",
    "\n",
    "Click the block of code below and hit the **Run** button above.  \n",
    "NOTE: If the graph is not created, click the code section and hit the **Run** button again."
   ]
  },
  {
   "cell_type": "code",
   "execution_count": null,
   "metadata": {},
   "outputs": [],
   "source": [
    "import matplotlib.pyplot as plt\n",
    "import seaborn as sns\n",
    "import numpy as np\n",
    "import random\n",
    "\n",
    "# side-by-side boxplots require the three dataframes to be concatenated and a require variable identifying the type of ETF.\n",
    "etf_returns_financial_df = etf_returns_df[['financial']]\n",
    "etf_returns_financial_df = etf_returns_financial_df.rename(columns={\"financial\": \"return\"})\n",
    "etf_returns_financial_df['ETF'] = 'financial'\n",
    "\n",
    "etf_returns_energy_df = etf_returns_df[['energy']]\n",
    "etf_returns_energy_df = etf_returns_energy_df.rename(columns={\"energy\": \"return\"})\n",
    "etf_returns_energy_df['ETF'] = 'energy'\n",
    "\n",
    "etf_returns_technology_df = etf_returns_df[['technology']]\n",
    "etf_returns_technology_df = etf_returns_technology_df.rename(columns={\"technology\": \"return\"})\n",
    "etf_returns_technology_df['ETF'] = 'technology'\n",
    "\n",
    "# concatenate dataframes for the three ETFs.\n",
    "all_etfs_df = pd.concat((etf_returns_financial_df, etf_returns_energy_df, etf_returns_technology_df))\n",
    "\n",
    "# set a title for the plot, x-axis, and y-axis.\n",
    "plt.title('Boxplot for comparison', fontsize=20) \n",
    "\n",
    "# prepare the boxplot.\n",
    "sns.boxplot(x=\"ETF\",y=\"return\",data=all_etfs_df)\n",
    "\n",
    "# show the plot.\n",
    "plt.show()"
   ]
  },
  {
   "cell_type": "markdown",
   "metadata": {},
   "source": [
    " "
   ]
  },
  {
   "cell_type": "markdown",
   "metadata": {},
   "source": [
    "## End of initial post\n",
    "Attach the HTML output to your initial post in the Module Eight discussion. The HTML output can be downloaded by clicking **File**, then **Download as**, then **HTML**. Be sure to answer all questions about this activity in the Module Eight discussion."
   ]
  },
  {
   "cell_type": "markdown",
   "metadata": {},
   "source": [
    " "
   ]
  },
  {
   "cell_type": "markdown",
   "metadata": {},
   "source": [
    "## Follow-up posts (due Sunday)\n",
    "Return to the Module Eight discussion to answer the follow-up questions in your response posts to other students. There are no Python scripts to run for your follow-up posts."
   ]
  }
 ],
 "metadata": {
  "kernelspec": {
   "display_name": ".venv",
   "language": "python",
   "name": "python3"
  },
  "language_info": {
   "codemirror_mode": {
    "name": "ipython",
    "version": 3
   },
   "file_extension": ".py",
   "mimetype": "text/x-python",
   "name": "python",
   "nbconvert_exporter": "python",
   "pygments_lexer": "ipython3",
   "version": "3.11.1"
  },
  "vscode": {
   "interpreter": {
    "hash": "dbcdc5d5a2b32ab34b9e7a14db774a3cdf1d305aabb3aceba72490aefedad311"
   }
  }
 },
 "nbformat": 4,
 "nbformat_minor": 2
}

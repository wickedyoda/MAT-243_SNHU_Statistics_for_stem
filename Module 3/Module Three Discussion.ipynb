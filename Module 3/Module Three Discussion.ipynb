{
 "cells": [
  {
   "cell_type": "markdown",
   "metadata": {},
   "source": [
    "# Module Three Discussion: Confidence Intervals and Hypothesis Testing\n",
    "\n",
    "This notebook contains the step-by-step directions for your Module Three discussion. It is very important to run through the steps in order. Some steps depend on the outputs of earlier steps. Once you have completed the steps in this notebook, be sure to answer the questions about this activity in the discussion for this module.\n",
    "\n",
    "Reminder: If you have not already reviewed the discussion prompt, please do so before beginning this activity. That will give you an idea of the questions you will need to answer with the outputs of this script.\n"
   ]
  },
  {
   "cell_type": "markdown",
   "metadata": {},
   "source": [
    "\n",
    "## Initial post (due Thursday)\n",
    "_____________________________________________________________________________________________________________________________________________________"
   ]
  },
  {
   "cell_type": "markdown",
   "metadata": {},
   "source": [
    "### Step 1: Generating sample data\n",
    "This block of Python code will generate a unique sample of size 50 that you will use in this discussion. Note that your sample will be unique and therefore your answers will be unique as well. The numpy module in Python allows you to create a data set using a Normal distribution. Note that the mean and standard deviation were chosen for you. The data set will be saved in a Python dataframe that will be used in later calculations. \n",
    "\n",
    "Click the block of code below and hit the **Run** button above. "
   ]
  },
  {
   "cell_type": "code",
   "execution_count": null,
   "metadata": {},
   "outputs": [],
   "source": [
    "import pandas as pd\n",
    "import numpy as np\n",
    "import math\n",
    "import scipy.stats as st\n",
    "\n",
    "# create 50 randomly chosen values from a Normal distribution. (arbitrarily using mean=2.48 and standard deviation=0.50). \n",
    "diameters = np.random.normal(2.4800,0.500,50)\n",
    "\n",
    "# convert the array into a dataframe with the column name \"diameters\" using pandas library.\n",
    "diameters_df = pd.DataFrame(diameters, columns=['diameters'])\n",
    "diameters_df = diameters_df.round(2)\n",
    "\n",
    "# print the dataframe (note that the index of dataframe starts at 0).\n",
    "print(\"Diameters data frame\\n\")\n",
    "print(diameters_df)"
   ]
  },
  {
   "cell_type": "markdown",
   "metadata": {},
   "source": [
    "### Step 2: Constructing confidence intervals\n",
    "You will assume that the population standard deviation is known and that the sample size is sufficiently large. Then you will use the Normal distribution to construct these confidence intervals. You will use the submodule scipy.stats to construct confidence intervals using your sample data. \n",
    "\n",
    "Click the block of code below and hit the **Run** button above. "
   ]
  },
  {
   "cell_type": "code",
   "execution_count": null,
   "metadata": {},
   "outputs": [],
   "source": [
    "# Python methods that calculate confidence intervals require the sample mean and the standard error as inputs.\n",
    "\n",
    "# calculate the sample mean\n",
    "mean = diameters_df['diameters'].mean()\n",
    "\n",
    "# input the population standard deviation, which was given in Step 1.\n",
    "std_deviation = 0.5000\n",
    "\n",
    "# calculate standard error = standard deviation / sqrt(n)   where n is the sample size.\n",
    "stderr = std_deviation/math.sqrt(len(diameters_df['diameters']))\n",
    "\n",
    "# construct a 90% confidence interval.\n",
    "conf_int_90 = st.norm.interval(0.90, mean, stderr)\n",
    "print(\"90% confidence interval (unrounded) =\", conf_int_90)\n",
    "print(\"90% confidence interval (rounded) = (\", round(conf_int_90[0], 2), \",\", round(conf_int_90[1], 2), \")\")\n",
    "print(\"\")\n",
    "\n",
    "# construct a 99% confidence interval.\n",
    "conf_int_99 = st.norm.interval(0.99, mean, stderr)\n",
    "print(\"99% confidence interval (unrounded) =\", conf_int_99)\n",
    "print(\"99% confidence interval (rounded) = (\", round(conf_int_99[0], 2), \",\", round(conf_int_99[1], 2), \")\")"
   ]
  },
  {
   "cell_type": "markdown",
   "metadata": {},
   "source": [
    "### Step 3: Performing hypothesis testing for the population mean\n",
    "Since you were given the population standard deviation in Step 1 and the sample size is sufficiently large, you can use the z-test for population means. The z-test method in statsmodels.stats.weightstats submodule runs the z-test. The input to this method is the sample dataframe and the value under the null hypothesis. The output is the test-statistic and the two-tailed P-value.\n",
    "\n",
    "Click the block of code below and hit the **Run** button above. "
   ]
  },
  {
   "cell_type": "code",
   "execution_count": null,
   "metadata": {},
   "outputs": [],
   "source": [
    "from statsmodels.stats.weightstats import ztest\n",
    "\n",
    "# run z-test hypothesis test for population mean. The value under the null hypothesis is 2.30.\n",
    "test_statistic, p_value = ztest(x1 = diameters_df['diameters'],  value = 2.30)\n",
    "\n",
    "print(\"z-test hypothesis test for population mean\")\n",
    "print(\"test-statistic =\", round(test_statistic,2))\n",
    "print(\"two tailed p-value =\",round(p_value,4))"
   ]
  },
  {
   "cell_type": "markdown",
   "metadata": {},
   "source": [
    "## End of initial post\n",
    "Attach the HTML output to your initial post in the Module Three discussion. The HTML output can be downloaded by clicking **File**, then **Download as**, then **HTML**. Be sure to answer all questions about this activity in the Module Three discussion."
   ]
  },
  {
   "cell_type": "markdown",
   "metadata": {},
   "source": [
    "## Follow-up posts (due Sunday)\n",
    "Return to the Module Three discussion to answer the follow-up questions in your response posts to other students. There are no Python scripts to run for your follow-up posts."
   ]
  }
 ],
 "metadata": {
  "kernelspec": {
   "display_name": "Python 3",
   "language": "python",
   "name": "python3"
  },
  "language_info": {
   "codemirror_mode": {
    "name": "ipython",
    "version": 3
   },
   "file_extension": ".py",
   "mimetype": "text/x-python",
   "name": "python",
   "nbconvert_exporter": "python",
   "pygments_lexer": "ipython3",
   "version": "3.7.2"
  }
 },
 "nbformat": 4,
 "nbformat_minor": 2
}

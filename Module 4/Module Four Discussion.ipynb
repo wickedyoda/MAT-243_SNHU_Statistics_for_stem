{
 "cells": [
  {
   "cell_type": "markdown",
   "metadata": {},
   "source": [
    "# Module Four Discussion: Hypothesis Testing for the Difference in Two Population Proportions\n",
    "\n",
    "This notebook contains the step-by-step directions for your Module Four discussion. It is very important to run through the steps in order. Some steps depend on the outputs of earlier steps. Once you have completed the steps in this notebook, be sure to answer the questions about this activity in the discussion for this module.\n",
    "\n",
    "Reminder: If you have not already reviewed the discussion prompt, please do so before beginning this activity. That will give you an idea of the questions you will need to answer with the outputs of this script.\n"
   ]
  },
  {
   "cell_type": "markdown",
   "metadata": {},
   "source": [
    "## Initial post (due Thursday)\n",
    "_____________________________________________________________________________________________________________________________________________________"
   ]
  },
  {
   "cell_type": "markdown",
   "metadata": {},
   "source": [
    "### Step 1: Generating sample data\n",
    "This block of Python code will generate two samples, both of size 50, that you will use in this discussion. The datasets will be unique to you and therefore your answers will be unique as well. The numpy module in Python allows you to create a data set using a Normal distribution. The data sets will be saved in Python dataframes and will be used in later calculations. \n",
    "\n",
    "Click the block of code below and hit the **Run** button above. "
   ]
  },
  {
   "cell_type": "code",
   "execution_count": null,
   "metadata": {},
   "outputs": [],
   "source": [
    "import pandas as pd\n",
    "import numpy as np\n",
    "\n",
    "# create 50 randomly chosen values from a normal distribution. (arbitrarily using mean=2.48 and standard deviation=0.500) \n",
    "diameters_sample1 = np.random.normal(2.48,0.500,50)\n",
    "\n",
    "# convert the array into a dataframe with the column name \"diameters\" using pandas library\n",
    "diameters_sample1_df = pd.DataFrame(diameters_sample1, columns=['diameters'])\n",
    "diameters_sample1_df = diameters_sample1_df.round(2)\n",
    "\n",
    "# create 50 randomly chosen values from a normal distribution. (arbitrarily using mean=2.50 and standard deviation=0.750) \n",
    "diameters_sample2 = np.random.normal(2.50,0.750,50)\n",
    "\n",
    "# convert the array into a dataframe with the column name \"diameters\" using pandas library\n",
    "diameters_sample2_df = pd.DataFrame(diameters_sample2, columns=['diameters'])\n",
    "diameters_sample2_df = diameters_sample2_df.round(2)\n",
    "\n",
    "# print the dataframe to see the first 5 observations (note that the index of dataframe starts at 0)\n",
    "print(\"Diameters data frame of the first sample (showing only the first five observations)\")\n",
    "print(diameters_sample1_df.head())\n",
    "print()\n",
    "print(\"Diameters data frame of the second sample (showing only the first five observations)\")\n",
    "print(diameters_sample2_df.head())"
   ]
  },
  {
   "cell_type": "markdown",
   "metadata": {},
   "source": [
    "### Step 2: Performing hypothesis test for the difference in population proportions\n",
    "The z-test for proportions can be used to test for the difference in proportions. The **proportions_ztest** method in statsmodels.stats.proportion submodule runs this test. The input to this method is a list of counts meeting a certain condition (given in the problem statement) and a list of sample sizes for the two samples. \n",
    "\n",
    "***Counts***  &nbsp;&nbsp; Python list that is assigned the number of observations in each sample with diameter values less than 2.20.  \n",
    "***n***  &nbsp;&nbsp;&nbsp;&nbsp;&nbsp;&nbsp;&nbsp;&nbsp;&nbsp;&nbsp;&nbsp;&nbsp; Python list that is assigned the total number of observations in each sample.\n",
    "\n",
    "Click the block of code below and hit the **Run** button above. "
   ]
  },
  {
   "cell_type": "code",
   "execution_count": null,
   "metadata": {
    "scrolled": true
   },
   "outputs": [],
   "source": [
    "from statsmodels.stats.proportion import proportions_ztest\n",
    "\n",
    "# number of observations in the first sample with diameter values less than 2.20. \n",
    "count1 = len(diameters_sample1_df[diameters_sample1_df['diameters']<2.20])\n",
    "\n",
    "# number of observations in the second sample with diameter values less than 2.20. \n",
    "count2 = len(diameters_sample2_df[diameters_sample2_df['diameters']<2.20])\n",
    "\n",
    "# counts Python list\n",
    "counts = [count1, count2]\n",
    "\n",
    "\n",
    "# number of observations in the first sample\n",
    "n1 = len(diameters_sample1_df)\n",
    "\n",
    "# number of observations in the second sample\n",
    "n2 = len(diameters_sample2_df)\n",
    "\n",
    "# n Python list\n",
    "n = [n1, n2]\n",
    "\n",
    "# perform the hypothesis test. output is a Python tuple that contains test_statistic and the two-sided P_value.\n",
    "test_statistic, p_value = proportions_ztest(counts, n)\n",
    "\n",
    "print(\"test-statistic =\", round(test_statistic,2))\n",
    "print(\"two tailed p-value =\", round(p_value,4))"
   ]
  },
  {
   "cell_type": "markdown",
   "metadata": {},
   "source": [
    " "
   ]
  },
  {
   "cell_type": "markdown",
   "metadata": {},
   "source": [
    "## End of initial post\n",
    "Attach the HTML output to your initial post in the Module Four discussion. The HTML output can be downloaded by clicking **File**, then **Download as**, then **HTML**. Be sure to answer all questions about this activity in the Module Four discussion."
   ]
  },
  {
   "cell_type": "markdown",
   "metadata": {},
   "source": [
    "## Follow-up posts (due Sunday)\n",
    "Return to the Module Four discussion to answer the follow-up questions in your response posts to other students. There are no Python scripts to run for your follow-up posts."
   ]
  }
 ],
 "metadata": {
  "kernelspec": {
   "display_name": "Python 3",
   "language": "python",
   "name": "python3"
  },
  "language_info": {
   "codemirror_mode": {
    "name": "ipython",
    "version": 3
   },
   "file_extension": ".py",
   "mimetype": "text/x-python",
   "name": "python",
   "nbconvert_exporter": "python",
   "pygments_lexer": "ipython3",
   "version": "3.7.2"
  }
 },
 "nbformat": 4,
 "nbformat_minor": 2
}

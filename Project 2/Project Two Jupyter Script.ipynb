{
 "cells": [
  {
   "cell_type": "markdown",
   "metadata": {},
   "source": [
    "# Project Two: Hypothesis Testing\n",
    "\n",
    "This notebook contains the step-by-step directions for Project Two. It is very important to run through the steps in order. Some steps depend on the outputs of earlier steps. Once you have completed the steps in this notebook, be sure to write your summary report. \n",
    "\n",
    "You are a data analyst for a basketball team and have access to a large set of historical data that you can use to analyze performance patterns. The coach of the team and your management have requested that you perform several hypothesis tests to statistically validate claims about your team's performance. This analysis will provide evidence for these claims and help make key decisions to improve the performance of the team. You will use the Python programming language to perform the statistical analyses and then prepare a report of your findings for the team’s management. Since the managers are not data analysts, you will need to interpret your findings and describe their practical implications. \n",
    "\n",
    "\n",
    "There are four important variables in the data set that you will study in Project Two. \n",
    "\n",
    "\n",
    "| <div style=\"text-align: left\"> Variable </div>  |   <div style=\"text-align: left\"> What does it represent? </div> |\n",
    "| -- | --  |\n",
    "| <div style=\"text-align: left\"> pts </div> | <div style=\"text-align: left\"> Points scored by the team in a game </div> |\n",
    "| <div style=\"text-align: left\"> elo_n </div> | <div style=\"text-align: left\"> A measure of relative skill level of the team in the league </div> |\n",
    "| <div style=\"text-align: left\"> year_id </div> | <div style=\"text-align: left\"> Year when the team played the games </div> |\n",
    "| <div style=\"text-align: left\"> fran_id </div> | <div style=\"text-align: left\"> Name of the NBA team </div> |\n",
    "\n",
    "\n",
    "The ELO rating, represented by the variable **elo_n**, is used as a measure of the relative skill of a team. This measure is inferred based on the final score of a game, the game location, and the outcome of the game relative to the probability of that outcome. The higher the number, the higher the relative skill of a team.\n",
    "\n",
    "\n",
    "In addition to studying data on your own team, your management has also assigned you a second team so that you can compare its performance with your own team's. \n",
    "\n",
    "\n",
    "| <div style=\"text-align: left\"> Team </div>  |   <div style=\"text-align: left\"> What does it represent </div> |\n",
    "| -- | --  |\n",
    "| <div style=\"text-align: left\"> Your Team </div> | <div style=\"text-align: left\"> This is the team that has hired you as an analyst. This is the team that you will pick below. See Step 2.</div> |\n",
    "| <div style=\"text-align: left\"> Assigned Team </div> | <div style=\"text-align: left\"> This is the team that the management has assigned to you to compare against your team. See Step 1. </div> |\n",
    "\n",
    "\n",
    "Reminder: It may be beneficial to review the summary report template for Project Two prior to starting this Python script. That will give you an idea of the questions you will need to answer with the outputs of this script.\n",
    "\n",
    "\n",
    "**--------------------------------------------------------------------------------------------------------------------------------------------------------------------------------------------------------**"
   ]
  },
  {
   "cell_type": "markdown",
   "metadata": {},
   "source": [
    "## Step 1: Data Preparation & the Assigned Team\n",
    "This step uploads the data set from a CSV file. It also selects the Assigned Team for this analysis. Do not make any changes to the code block below.\n",
    "\n",
    "1. The **Assigned Team** is <font color='blue'><strong>Chicago Bulls</strong></font> from the years <font color='blue'><strong>1996 - 1998</strong></font>\n",
    "\n",
    "Click the block of code below and hit the **Run** button above."
   ]
  },
  {
   "cell_type": "code",
   "execution_count": null,
   "metadata": {},
   "outputs": [],
   "source": [
    "import numpy as np\n",
    "import pandas as pd\n",
    "import scipy.stats as st\n",
    "import matplotlib.pyplot as plt\n",
    "from IPython.display import display, HTML\n",
    "\n",
    "nba_orig_df = pd.read_csv('nbaallelo.csv')\n",
    "nba_orig_df = nba_orig_df[(nba_orig_df['lg_id']=='NBA') & (nba_orig_df['is_playoffs']==0)]\n",
    "columns_to_keep = ['game_id','year_id','fran_id','pts','opp_pts','elo_n','opp_elo_n', 'game_location', 'game_result']\n",
    "nba_orig_df = nba_orig_df[columns_to_keep]\n",
    "\n",
    "# The dataframe for the assigned team is called assigned_team_df. \n",
    "# The assigned team is the Bulls from 1996-1998.\n",
    "assigned_years_league_df = nba_orig_df[(nba_orig_df['year_id'].between(1996, 1998))]\n",
    "assigned_team_df = assigned_years_league_df[(assigned_years_league_df['fran_id']=='Bulls')]\n",
    "assigned_team_df = assigned_team_df.reset_index(drop=True)\n",
    "\n",
    "display(HTML(assigned_team_df.head().to_html()))\n",
    "print(\"printed only the first five observations...\")\n",
    "print(\"Number of rows in the dataset =\", len(assigned_team_df))"
   ]
  },
  {
   "cell_type": "markdown",
   "metadata": {},
   "source": [
    "## Step 2: Pick Your Team\n",
    "In this step, you will pick your team. The range of years that you will study for your team is <font color='blue'><strong>2013-2015</strong></font>. Make the following edits to the code block below:\n",
    "\n",
    "1. <font color='red'> Replace <strong>??TEAM??</strong> with your choice of team from one of the following team names. </font>  \n",
    "<font color='blue'>*Bucks, Bulls, Cavaliers, Celtics, Clippers, Grizzlies, Hawks, Heat, Jazz, Kings, Knicks, Lakers, Magic, Mavericks, Nets, Nuggets, Pacers, Pelicans, Pistons, Raptors, Rockets, Sixers, Spurs, Suns, Thunder, Timberwolves, Trailblazers, Warriors, Wizards*</font>    \n",
    "Remember to enter the team name within single quotes. For example, if you picked the Suns, then ??TEAM?? should be replaced with 'Suns'.  \n",
    "\n",
    "After you are done with your edits, click the block of code below and hit the **Run** button above."
   ]
  },
  {
   "cell_type": "code",
   "execution_count": null,
   "metadata": {},
   "outputs": [],
   "source": [
    "# Range of years: 2013-2015 (Note: The line below selects all teams within the three-year period 2013-2015. This is not your team's dataframe.\n",
    "your_years_leagues_df = nba_orig_df[(nba_orig_df['year_id'].between(2013, 2015))]\n",
    "\n",
    "# The dataframe for your team is called your_team_df.\n",
    "# ---- TODO: make your edits here ----\n",
    "your_team_df = your_years_leagues_df[(your_years_leagues_df['fran_id']==??TEAM??)]\n",
    "your_team_df = your_team_df.reset_index(drop=True)\n",
    "\n",
    "display(HTML(your_team_df.head().to_html()))\n",
    "print(\"printed only the first five observations...\")\n",
    "print(\"Number of rows in the dataset =\", len(your_team_df))"
   ]
  },
  {
   "cell_type": "markdown",
   "metadata": {},
   "source": [
    "## Step 3: Hypothesis Test for the Population Mean (I)\n",
    "A relative skill level of 1340 represents a critically low skill level in the league. The management of your team has hypothesized that the average relative skill level of your team in the years 2013-2015 is greater than 1340. Test this claim using a 5% level of significance. For this test, assume that the population standard deviation for relative skill level is unknown. Make the following edits to the code block below:\n",
    "\n",
    "1. <font color='red'> Replace <strong>??DATAFRAME_YOUR_TEAM??</strong> with the name of your team's dataframe. </font> See Step 2 for the name of your team's dataframe.\n",
    "\n",
    "\n",
    "2. <font color='red'> Replace <strong>??RELATIVE_SKILL??</strong> with the name of the variable for relative skill.</font> See the table included in the Project Two instructions above to pick the variable name. Enclose this variable in single quotes. For example, if the variable name is **var2** then replace ??RELATIVE_SKILL?? with 'var2'.\n",
    "\n",
    "\n",
    "3. <font color='red'> Replace <strong>??NULL_HYPOTHESIS_VALUE??</strong> with the mean value of the relative skill under the null hypothesis. </font>\n",
    "\n",
    "After you are done with your edits, click the block of code below and hit the **Run** button above."
   ]
  },
  {
   "cell_type": "code",
   "execution_count": null,
   "metadata": {},
   "outputs": [],
   "source": [
    "import scipy.stats as st\n",
    "\n",
    "# Mean relative skill level of your team\n",
    "mean_elo_your_team = your_team_df['elo_n'].mean()\n",
    "print(\"Mean Relative Skill of your team in the years 2013 to 2015 =\", round(mean_elo_your_team,2))\n",
    "\n",
    "\n",
    "# Hypothesis Test\n",
    "# ---- TODO: make your edits here ----\n",
    "test_statistic, p_value = st.ttest_1samp(??DATAFRAME_YOUR_TEAM??[??RELATIVE_SKILL??],  ??NULL_HYPOTHESIS_VALUE??)\n",
    "\n",
    "print(\"Hypothesis Test for the Population Mean\")\n",
    "print(\"Test Statistic =\", round(test_statistic,2)) \n",
    "print(\"P-value =\", round(p_value,4)) "
   ]
  },
  {
   "cell_type": "markdown",
   "metadata": {},
   "source": [
    "  "
   ]
  },
  {
   "cell_type": "markdown",
   "metadata": {},
   "source": [
    "## Step 4: Hypothesis Test for the Population Mean (II)\n",
    "\n",
    "A team averaging 106 points is likely to do very well during the regular season. The coach of your team has hypothesized that your team scored at an average of less than 106 points in the years 2013-2015. Test this claim at a 1% level of significance. For this test, assume that the population standard deviation for relative skill level is unknown. \n",
    "\n",
    "\n",
    "<font><strong>You are to write this code block yourself.</strong></font> \n",
    "\n",
    "Use Step 3 to help you write this code block. Here is some information that will help you write this code block. Reach out to your instructor if you need help.\n",
    "1. <font color='red'> The dataframe for your team is called your_team_df. </font>\n",
    "2. <font color='red'> The variable 'pts' represents the points scored by your team. </font>\n",
    "3. <font color='red'> Calculate and print the mean points scored by your team during the years you picked. </font>\n",
    "4. <font color='red'> Identify  the mean score under the null hypothesis. You only have to identify this value and do not have to print it. </font> (Hint: this is given in the problem statement)\n",
    "5. <font color='red'> Assuming that the population standard deviation is unknown, use Python methods to carry out the hypothesis test. </font>\n",
    "6. <font color='red'> Calculate and print the test statistic rounded to two decimal places. </font>\n",
    "7. <font color='red'> Calculate and print the P-value rounded to four decimal places. </font>\n",
    "\n",
    "Write your code in the code block section below. After you are done, click this block of code and hit the **Run** button above. Reach out to your instructor if you need more help with this step."
   ]
  },
  {
   "cell_type": "code",
   "execution_count": null,
   "metadata": {},
   "outputs": [],
   "source": [
    "# Write your code in this code block section\n",
    "\n"
   ]
  },
  {
   "cell_type": "markdown",
   "metadata": {},
   "source": [
    " "
   ]
  },
  {
   "cell_type": "markdown",
   "metadata": {},
   "source": [
    "## Step 5: Hypothesis Test for the Population Proportion\n",
    "Suppose the management claims that the proportion of games that your team wins when scoring 102 or more points is 0.90. Test this claim using a 5% level of significance. Make the following edits to the code block below:\n",
    "\n",
    "1. <font color='red'> Replace <strong>??COUNT_VAR??</strong> with the variable name that represents the number of games won when your team scores over 102 points. </font> (Hint: this variable is in the code block below).\n",
    "\n",
    "\n",
    "2. <font color='red'> Replace <strong>??NOBS_VAR??</strong> with the variable name that represents the total number of games when your team scores over 102 points. </font> (Hint: this variable is in the code block below).\n",
    "\n",
    "\n",
    "3. <font color='red'> Replace <strong>??NULL_HYPOTHESIS_VALUE??</strong> with the proportion under the null hypothesis. </font>\n",
    "\n",
    "After you are done with your edits, click the block of code below and hit the **Run** button above."
   ]
  },
  {
   "cell_type": "code",
   "execution_count": null,
   "metadata": {},
   "outputs": [],
   "source": [
    "from statsmodels.stats.proportion import proportions_ztest\n",
    "\n",
    "your_team_gt_102_df = your_team_df[(your_team_df['pts'] > 102)]\n",
    "\n",
    "# Number of games won when your team scores over 102 points\n",
    "counts = (your_team_gt_102_df['game_result'] == 'W').sum()\n",
    "\n",
    "# Total number of games when your team scores over 102 points\n",
    "nobs = len(your_team_gt_102_df['game_result'])\n",
    "\n",
    "p = counts*1.0/nobs\n",
    "print(\"Proportion of games won by your team when scoring more than 102 points in the years 2013 to 2015 =\", round(p,4))\n",
    "\n",
    "\n",
    "# Hypothesis Test\n",
    "# ---- TODO: make your edits here ----\n",
    "test_statistic, p_value = proportions_ztest(??COUNT_VAR??, ??NOBS_VAR??, ??NULL_HYPOTHESIS_VALUE??, prop_var=??NULL_HYPOTHESIS_VALUE??)\n",
    "\n",
    "print(\"Hypothesis Test for the Population Proportion\")\n",
    "print(\"Test Statistic =\", round(test_statistic,2)) \n",
    "print(\"P-value =\", round(p_value,4))"
   ]
  },
  {
   "cell_type": "markdown",
   "metadata": {},
   "source": [
    "## Step 6: Hypothesis Test for the Difference Between Two Population Means\n",
    "The management of your team wants to compare the team with the assigned team (the Bulls in 1996-1998). They claim that the skill level of your team in 2013-2015 is the same as the skill level of the Bulls in 1996 to 1998. In other words, the mean relative skill level of your team in 2013 to 2015 is the same as the mean relative skill level of the Bulls in 1996-1998. Test this claim using a 1% level of significance. Assume that the population standard deviation is unknown. Make the following edits to the code block below:\n",
    "\n",
    "1. <font color='red'> Replace <strong>??DATAFRAME_ASSIGNED_TEAM??</strong> with the name of assigned team's dataframe. </font> See Step 1 for the name of assigned team's dataframe.\n",
    "\n",
    "\n",
    "2. <font color='red'> Replace <strong>??DATAFRAME_YOUR_TEAM??</strong> with the name of your team's dataframe. </font> See Step 2 for the name of your team's dataframe.\n",
    "\n",
    "\n",
    "3. <font color='red'> Replace <strong>??RELATIVE_SKILL??</strong> with the name of the variable for relative skill.</font> See the table included in Project Two instructions above to pick the variable name. Enclose this variable in single quotes. For example, if the variable name is **var2** then replace ??RELATIVE_SKILL?? with 'var2'.\n",
    "\n",
    "\n",
    "After you are done with your edits, click the block of code below and hit the **Run** button above."
   ]
  },
  {
   "cell_type": "code",
   "execution_count": null,
   "metadata": {},
   "outputs": [],
   "source": [
    "import scipy.stats as st\n",
    "\n",
    "mean_elo_n_project_team = assigned_team_df['elo_n'].mean()\n",
    "print(\"Mean Relative Skill of the assigned team in the years 1996 to 1998 =\", round(mean_elo_n_project_team,2))\n",
    "\n",
    "mean_elo_n_your_team = your_team_df['elo_n'].mean()\n",
    "print(\"Mean Relative Skill of your team in the years 2013 to 2015  =\", round(mean_elo_n_your_team,2))\n",
    "\n",
    "\n",
    "# Hypothesis Test\n",
    "# ---- TODO: make your edits here ----\n",
    "test_statistic, p_value = st.ttest_ind(??DATAFRAME_ASSIGNED_TEAM??[??RELATIVE_SKILL??], ??DATAFRAME_YOUR_TEAM??[??RELATIVE_SKILL??])\n",
    "\n",
    "print(\"Hypothesis Test for the Difference Between Two Population Means\")\n",
    "print(\"Test Statistic =\", round(test_statistic,2)) \n",
    "print(\"P-value =\", round(p_value,4))"
   ]
  },
  {
   "cell_type": "markdown",
   "metadata": {},
   "source": [
    " "
   ]
  },
  {
   "cell_type": "markdown",
   "metadata": {},
   "source": [
    "## End of Project Two\n",
    "Download the HTML output and submit it with your summary report for Project Two. The HTML output can be downloaded by clicking **File**, then **Download as**, then **HTML**. Do not include the Python code within your summary report."
   ]
  }
 ],
 "metadata": {
  "kernelspec": {
   "display_name": "Python 3",
   "language": "python",
   "name": "python3"
  },
  "language_info": {
   "codemirror_mode": {
    "name": "ipython",
    "version": 3
   },
   "file_extension": ".py",
   "mimetype": "text/x-python",
   "name": "python",
   "nbconvert_exporter": "python",
   "pygments_lexer": "ipython3",
   "version": "3.7.2"
  }
 },
 "nbformat": 4,
 "nbformat_minor": 2
}
